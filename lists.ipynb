{
  "nbformat": 4,
  "nbformat_minor": 0,
  "metadata": {
    "colab": {
      "provenance": [],
      "toc_visible": true,
      "authorship_tag": "ABX9TyNAT/J9hbQKJ5Xb5pDPM5YS",
      "include_colab_link": true
    },
    "kernelspec": {
      "name": "python3",
      "display_name": "Python 3"
    },
    "language_info": {
      "name": "python"
    }
  },
  "cells": [
    {
      "cell_type": "markdown",
      "metadata": {
        "id": "view-in-github",
        "colab_type": "text"
      },
      "source": [
        "<a href=\"https://colab.research.google.com/github/saithonukunoori/datascientist/blob/main/lists.ipynb\" target=\"_parent\"><img src=\"https://colab.research.google.com/assets/colab-badge.svg\" alt=\"Open In Colab\"/></a>"
      ]
    },
    {
      "cell_type": "code",
      "execution_count": null,
      "metadata": {
        "colab": {
          "base_uri": "https://localhost:8080/"
        },
        "id": "adElG8B2OW7K",
        "outputId": "e4a25c84-9a5d-4145-d3d8-fb84b63a2f09"
      },
      "outputs": [
        {
          "output_type": "stream",
          "name": "stdout",
          "text": [
            "[2, 3, 4, 5, 6, 7, 8]\n",
            "[2, 3, 4, 5, 6, 7, 8]\n",
            "[2, 3, 4, 5, 6, 7, 8, 8, 2]\n",
            "2\n",
            "[1, 2, 3, 4, 5, 6, 7, 8, 8, 2]\n",
            "[1, 2, 3, 4, 5, 6, 7, 8, 8]\n",
            "[1, 2, 3, 4, 5, 6, 7, 8]\n",
            "[3, 2, 1]\n",
            "1     3\n"
          ]
        }
      ],
      "source": [
        "\n",
        "a=[2,3,4,5,6,7]\n",
        "c=[1,2,3]\n",
        "a.append(8)\n",
        "print(a)\n",
        "b=a.copy()\n",
        "print(b)\n",
        "a.extend([8,2])\n",
        "print(a)\n",
        "print(a.count(2))\n",
        "a.insert(0,1)\n",
        "print(a)\n",
        "a.pop() #for index\n",
        "print(a)\n",
        "a.remove(8) #to remove element but dont know the idx\n",
        "print(a)\n",
        "c.reverse()\n",
        "print(c)\n",
        "print(min(c),\"   \",max(c))\n",
        "\n",
        "\n",
        "\n"
      ]
    }
  ]
}
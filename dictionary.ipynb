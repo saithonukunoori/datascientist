{
  "nbformat": 4,
  "nbformat_minor": 0,
  "metadata": {
    "colab": {
      "provenance": [],
      "authorship_tag": "ABX9TyPqmuT5mXAnYpgTQ3dZOyuV",
      "include_colab_link": true
    },
    "kernelspec": {
      "name": "python3",
      "display_name": "Python 3"
    },
    "language_info": {
      "name": "python"
    }
  },
  "cells": [
    {
      "cell_type": "markdown",
      "metadata": {
        "id": "view-in-github",
        "colab_type": "text"
      },
      "source": [
        "<a href=\"https://colab.research.google.com/github/saithonukunoori/datascientist/blob/main/dictionary.ipynb\" target=\"_parent\"><img src=\"https://colab.research.google.com/assets/colab-badge.svg\" alt=\"Open In Colab\"/></a>"
      ]
    },
    {
      "cell_type": "code",
      "execution_count": null,
      "metadata": {
        "colab": {
          "base_uri": "https://localhost:8080/"
        },
        "id": "LiuPsbIIaYbx",
        "outputId": "8bba1286-7539-4af6-cd6f-3ab429e53ab8"
      },
      "outputs": [
        {
          "output_type": "stream",
          "name": "stdout",
          "text": [
            "{1: 'hello', 2: 'world'}\n",
            "{}\n",
            "The newly created dict with 1 as value : {'a': 1, 'd': 1, 'c': 1, 'b': 1}\n",
            "hello\n",
            "dict_items([(1, 'hello'), (2, 'world')])\n",
            "dict_keys([1, 2])\n",
            "dict_values(['hello', 'world'])\n",
            "{1: 'hello'}\n",
            "{1: 'hello', 2: 'world', 3: 'welcome'}\n",
            "1    hello\n",
            "2    world\n",
            "3    welcome\n",
            "{1: 'hello', 2: 'world', 3: 'welcome', 4: 'hello'}\n"
          ]
        }
      ],
      "source": [
        "dict= {1: 'hello', 2: 'world'}\n",
        "\n",
        "new = dict.copy()\n",
        "print(new)\n",
        "new.clear()\n",
        "print(new)\n",
        "\n",
        "seq = {'a', 'b', 'c', 'd', 'a'}\n",
        "# creating dict with default values as 1\n",
        "res_dict2 = dict.fromkeys(seq, 1)\n",
        "print(\"The newly created dict with 1 as value : \" + str(res_dict2))\n",
        "print(dict.get(1))\n",
        "print(dict.items())\n",
        "print(dict.keys())\n",
        "print(dict.values())\n",
        "dict.pop(2)\n",
        "print(dict)\n",
        "dict.update({2:\"world\",3:\"welcome\"})\n",
        "print(dict)\n",
        "for a,b in dict.items() :\n",
        "  print(a,\"  \",b)\n",
        "dict.setdefault(4,\"hello\")\n",
        "print(dict)\n",
        "\n"
      ]
    }
  ]
}